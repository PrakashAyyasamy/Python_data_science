{
  "nbformat": 4,
  "nbformat_minor": 0,
  "metadata": {
    "colab": {
      "name": "Scatter_plot.ipynb",
      "provenance": []
    },
    "kernelspec": {
      "name": "python3",
      "display_name": "Python 3"
    },
    "language_info": {
      "name": "python"
    }
  },
  "cells": [
    {
      "cell_type": "code",
      "execution_count": null,
      "metadata": {
        "id": "doiJtRNG2Fhn"
      },
      "outputs": [],
      "source": [
        "import pandas as pd\n",
        "from matplotlib import pyplot as plt\n",
        "plt.style.use('seaborn')\n",
        "\n",
        "#x=[5,7,8,5,6,7,9,2,3,4,4,4,2,6,3,6,8,6,4,1]\n",
        "#y=[7,4,3,9,1,3,2,5,4,2,8,7,1,6,4,9,7,7,5,1]\n",
        "\n",
        "#colors=[7,5,9,7,5,7,2,5,3,7,1,2,8,1,9,2,5,6,7,5]\n",
        "#sizes=[209,486,381,255,191,315,185,228,174,538,239,394,399,153,273,293,436,501,397,539]\n",
        "\n",
        "\n",
        "\n",
        "\n",
        "\n",
        "\n",
        "data=pd.read_csv('/content/Scatter_plot_view_likes_count.csv')\n",
        "view_count=data['view_count']\n",
        "likes=data['likes']\n",
        "ratio=data['ratio']\n",
        "\n",
        "plt.scatter(view_count,likes,c=ratio,edgecolor='black',cmap='autumn',linewidth=1,alpha=0.75)\n",
        "\n",
        "plt.xscale('log')\n",
        "plt.yscale('log')\n",
        "\n",
        "cbar=plt.colorbar()\n",
        "cbar.set_label('like/dislike ratio')\n",
        "\n",
        "plt.title(\"Trending youtube videos\")\n",
        "plt.xlabel(\"view count in million\")\n",
        "plt.ylabel(\"Total likes lakhs\")\n",
        "\n",
        "plt.tight_layout()\n",
        "plt.show()"
      ]
    }
  ]
}